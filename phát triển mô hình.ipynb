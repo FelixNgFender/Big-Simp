{
 "cells": [
  {
   "cell_type": "markdown",
   "metadata": {},
   "source": [
    "# **Ứng dụng của học máy trong cảnh báo nguy cơ mắc bệnh tim mạch vành**\n",
    "\n",
    "<img src='242452624.jpg'>"
   ]
  },
  {
   "cell_type": "markdown",
   "metadata": {
    "id": "P74QuhgkpYvT"
   },
   "source": [
    "## **1. Những mã nguồn sử dụng trong quá trình phát triển mô hình**"
   ]
  },
  {
   "cell_type": "code",
   "execution_count": 1,
   "metadata": {
    "_cell_guid": "79c7e3d0-c299-4dcb-8224-4455121ee9b0",
    "_uuid": "d629ff2d2480ee46fbb7e2d37f6b5fab8052498a",
    "colab": {
     "base_uri": "https://localhost:8080/"
    },
    "id": "V1qRv0tApYwA",
    "outputId": "1987687e-293a-45b5-87bb-676deeee6f7a"
   },
   "outputs": [],
   "source": [
    "# mã nguồn hỗ trợ nhập dữ liệu từ bộ nhớ\n",
    "import pandas as pd\n",
    "import numpy as np\n",
    "# vẽ biểu đồ\n",
    "import matplotlib.pyplot as plt\n",
    "%matplotlib inline\n",
    "import seaborn as sns\n",
    "# utils\n",
    "from collections import Counter\n",
    "import sklearn\n",
    "# xử lí dữ liệu\n",
    "from sklearn.preprocessing import StandardScaler\n",
    "# phân tách dữ liệu\n",
    "from sklearn.model_selection import train_test_split\n",
    "# phát triển mô hình\n",
    "from sklearn.metrics import confusion_matrix,accuracy_score,roc_curve,classification_report\n",
    "from sklearn.linear_model import LogisticRegression\n",
    "from sklearn.ensemble import RandomForestClassifier\n"
   ]
  },
  {
   "cell_type": "markdown",
   "metadata": {
    "id": "WFDUlXHeyl-o"
   },
   "source": [
    "## **2. Nhập và xử lí dữ liệu**"
   ]
  },
  {
   "cell_type": "markdown",
   "metadata": {
    "id": "OnRCe6P_0I7B"
   },
   "source": [
    "### **2.1. Nhập dữ liệu từ bộ nhớ**"
   ]
  },
  {
   "cell_type": "code",
   "execution_count": 2,
   "metadata": {
    "colab": {
     "base_uri": "https://localhost:8080/",
     "height": 217
    },
    "id": "CRtiqlF5pYwA",
    "outputId": "d0289773-a696-4136-d57d-daf0eabc50a9"
   },
   "outputs": [
    {
     "data": {
      "text/html": [
       "<div>\n",
       "<style scoped>\n",
       "    .dataframe tbody tr th:only-of-type {\n",
       "        vertical-align: middle;\n",
       "    }\n",
       "\n",
       "    .dataframe tbody tr th {\n",
       "        vertical-align: top;\n",
       "    }\n",
       "\n",
       "    .dataframe thead th {\n",
       "        text-align: right;\n",
       "    }\n",
       "</style>\n",
       "<table border=\"1\" class=\"dataframe\">\n",
       "  <thead>\n",
       "    <tr style=\"text-align: right;\">\n",
       "      <th></th>\n",
       "      <th>male</th>\n",
       "      <th>age</th>\n",
       "      <th>education</th>\n",
       "      <th>currentSmoker</th>\n",
       "      <th>cigsPerDay</th>\n",
       "      <th>BPMeds</th>\n",
       "      <th>prevalentStroke</th>\n",
       "      <th>prevalentHyp</th>\n",
       "      <th>diabetes</th>\n",
       "      <th>totChol</th>\n",
       "      <th>sysBP</th>\n",
       "      <th>diaBP</th>\n",
       "      <th>BMI</th>\n",
       "      <th>heartRate</th>\n",
       "      <th>glucose</th>\n",
       "      <th>TenYearCHD</th>\n",
       "    </tr>\n",
       "  </thead>\n",
       "  <tbody>\n",
       "    <tr>\n",
       "      <th>0</th>\n",
       "      <td>1</td>\n",
       "      <td>39</td>\n",
       "      <td>4.0</td>\n",
       "      <td>0</td>\n",
       "      <td>0.0</td>\n",
       "      <td>0.0</td>\n",
       "      <td>0</td>\n",
       "      <td>0</td>\n",
       "      <td>0</td>\n",
       "      <td>195.0</td>\n",
       "      <td>106.0</td>\n",
       "      <td>70.0</td>\n",
       "      <td>26.97</td>\n",
       "      <td>80.0</td>\n",
       "      <td>77.0</td>\n",
       "      <td>0</td>\n",
       "    </tr>\n",
       "    <tr>\n",
       "      <th>1</th>\n",
       "      <td>0</td>\n",
       "      <td>46</td>\n",
       "      <td>2.0</td>\n",
       "      <td>0</td>\n",
       "      <td>0.0</td>\n",
       "      <td>0.0</td>\n",
       "      <td>0</td>\n",
       "      <td>0</td>\n",
       "      <td>0</td>\n",
       "      <td>250.0</td>\n",
       "      <td>121.0</td>\n",
       "      <td>81.0</td>\n",
       "      <td>28.73</td>\n",
       "      <td>95.0</td>\n",
       "      <td>76.0</td>\n",
       "      <td>0</td>\n",
       "    </tr>\n",
       "    <tr>\n",
       "      <th>2</th>\n",
       "      <td>1</td>\n",
       "      <td>48</td>\n",
       "      <td>1.0</td>\n",
       "      <td>1</td>\n",
       "      <td>20.0</td>\n",
       "      <td>0.0</td>\n",
       "      <td>0</td>\n",
       "      <td>0</td>\n",
       "      <td>0</td>\n",
       "      <td>245.0</td>\n",
       "      <td>127.5</td>\n",
       "      <td>80.0</td>\n",
       "      <td>25.34</td>\n",
       "      <td>75.0</td>\n",
       "      <td>70.0</td>\n",
       "      <td>0</td>\n",
       "    </tr>\n",
       "    <tr>\n",
       "      <th>3</th>\n",
       "      <td>0</td>\n",
       "      <td>61</td>\n",
       "      <td>3.0</td>\n",
       "      <td>1</td>\n",
       "      <td>30.0</td>\n",
       "      <td>0.0</td>\n",
       "      <td>0</td>\n",
       "      <td>1</td>\n",
       "      <td>0</td>\n",
       "      <td>225.0</td>\n",
       "      <td>150.0</td>\n",
       "      <td>95.0</td>\n",
       "      <td>28.58</td>\n",
       "      <td>65.0</td>\n",
       "      <td>103.0</td>\n",
       "      <td>1</td>\n",
       "    </tr>\n",
       "    <tr>\n",
       "      <th>4</th>\n",
       "      <td>0</td>\n",
       "      <td>46</td>\n",
       "      <td>3.0</td>\n",
       "      <td>1</td>\n",
       "      <td>23.0</td>\n",
       "      <td>0.0</td>\n",
       "      <td>0</td>\n",
       "      <td>0</td>\n",
       "      <td>0</td>\n",
       "      <td>285.0</td>\n",
       "      <td>130.0</td>\n",
       "      <td>84.0</td>\n",
       "      <td>23.10</td>\n",
       "      <td>85.0</td>\n",
       "      <td>85.0</td>\n",
       "      <td>0</td>\n",
       "    </tr>\n",
       "  </tbody>\n",
       "</table>\n",
       "</div>"
      ],
      "text/plain": [
       "   male  age  education  currentSmoker  cigsPerDay  BPMeds  prevalentStroke  \\\n",
       "0     1   39        4.0              0         0.0     0.0                0   \n",
       "1     0   46        2.0              0         0.0     0.0                0   \n",
       "2     1   48        1.0              1        20.0     0.0                0   \n",
       "3     0   61        3.0              1        30.0     0.0                0   \n",
       "4     0   46        3.0              1        23.0     0.0                0   \n",
       "\n",
       "   prevalentHyp  diabetes  totChol  sysBP  diaBP    BMI  heartRate  glucose  \\\n",
       "0             0         0    195.0  106.0   70.0  26.97       80.0     77.0   \n",
       "1             0         0    250.0  121.0   81.0  28.73       95.0     76.0   \n",
       "2             0         0    245.0  127.5   80.0  25.34       75.0     70.0   \n",
       "3             1         0    225.0  150.0   95.0  28.58       65.0    103.0   \n",
       "4             0         0    285.0  130.0   84.0  23.10       85.0     85.0   \n",
       "\n",
       "   TenYearCHD  \n",
       "0           0  \n",
       "1           0  \n",
       "2           0  \n",
       "3           1  \n",
       "4           0  "
      ]
     },
     "execution_count": 2,
     "metadata": {},
     "output_type": "execute_result"
    }
   ],
   "source": [
    "data = pd.read_csv('./framingham.csv')\n",
    "data.head()"
   ]
  },
  {
   "cell_type": "code",
   "execution_count": 3,
   "metadata": {
    "colab": {
     "base_uri": "https://localhost:8080/"
    },
    "id": "NkUcKJdDpYwA",
    "outputId": "82a65188-6eba-4706-b14f-4053600b8258"
   },
   "outputs": [
    {
     "data": {
      "text/plain": [
       "male                 0\n",
       "age                  0\n",
       "education          105\n",
       "currentSmoker        0\n",
       "cigsPerDay          29\n",
       "BPMeds              53\n",
       "prevalentStroke      0\n",
       "prevalentHyp         0\n",
       "diabetes             0\n",
       "totChol             50\n",
       "sysBP                0\n",
       "diaBP                0\n",
       "BMI                 19\n",
       "heartRate            1\n",
       "glucose            388\n",
       "TenYearCHD           0\n",
       "dtype: int64"
      ]
     },
     "execution_count": 3,
     "metadata": {},
     "output_type": "execute_result"
    }
   ],
   "source": [
    "data.isnull().sum() # Đếm số lượng dữ liệu thiếu theo từng cột"
   ]
  },
  {
   "cell_type": "markdown",
   "metadata": {
    "id": "NCALmd0Ty1hx"
   },
   "source": [
    "**Note:** Có thể thấy dữ liệu được công bố có nhiều dữ liệu trống (Null data), không thể sử lí đơn thuần bằng cách điền dữ liệu trung lập (0) vào phần còn thiếu."
   ]
  },
  {
   "cell_type": "code",
   "execution_count": 4,
   "metadata": {
    "colab": {
     "base_uri": "https://localhost:8080/",
     "height": 307
    },
    "id": "AlihXsqtpYwB",
    "outputId": "3720fe79-f0fa-45a6-f94a-17186e222b1b"
   },
   "outputs": [
    {
     "data": {
      "text/html": [
       "<div>\n",
       "<style scoped>\n",
       "    .dataframe tbody tr th:only-of-type {\n",
       "        vertical-align: middle;\n",
       "    }\n",
       "\n",
       "    .dataframe tbody tr th {\n",
       "        vertical-align: top;\n",
       "    }\n",
       "\n",
       "    .dataframe thead th {\n",
       "        text-align: right;\n",
       "    }\n",
       "</style>\n",
       "<table border=\"1\" class=\"dataframe\">\n",
       "  <thead>\n",
       "    <tr style=\"text-align: right;\">\n",
       "      <th></th>\n",
       "      <th>male</th>\n",
       "      <th>age</th>\n",
       "      <th>education</th>\n",
       "      <th>currentSmoker</th>\n",
       "      <th>cigsPerDay</th>\n",
       "      <th>BPMeds</th>\n",
       "      <th>prevalentStroke</th>\n",
       "      <th>prevalentHyp</th>\n",
       "      <th>diabetes</th>\n",
       "      <th>totChol</th>\n",
       "      <th>sysBP</th>\n",
       "      <th>diaBP</th>\n",
       "      <th>BMI</th>\n",
       "      <th>heartRate</th>\n",
       "      <th>glucose</th>\n",
       "      <th>TenYearCHD</th>\n",
       "    </tr>\n",
       "  </thead>\n",
       "  <tbody>\n",
       "    <tr>\n",
       "      <th>count</th>\n",
       "      <td>4240.000000</td>\n",
       "      <td>4240.000000</td>\n",
       "      <td>4135.000000</td>\n",
       "      <td>4240.000000</td>\n",
       "      <td>4211.000000</td>\n",
       "      <td>4187.000000</td>\n",
       "      <td>4240.000000</td>\n",
       "      <td>4240.000000</td>\n",
       "      <td>4240.000000</td>\n",
       "      <td>4190.000000</td>\n",
       "      <td>4240.000000</td>\n",
       "      <td>4240.000000</td>\n",
       "      <td>4221.000000</td>\n",
       "      <td>4239.000000</td>\n",
       "      <td>3852.000000</td>\n",
       "      <td>4240.000000</td>\n",
       "    </tr>\n",
       "    <tr>\n",
       "      <th>mean</th>\n",
       "      <td>0.429245</td>\n",
       "      <td>49.580189</td>\n",
       "      <td>1.979444</td>\n",
       "      <td>0.494104</td>\n",
       "      <td>9.005937</td>\n",
       "      <td>0.029615</td>\n",
       "      <td>0.005896</td>\n",
       "      <td>0.310613</td>\n",
       "      <td>0.025708</td>\n",
       "      <td>236.699523</td>\n",
       "      <td>132.354599</td>\n",
       "      <td>82.897759</td>\n",
       "      <td>25.800801</td>\n",
       "      <td>75.878981</td>\n",
       "      <td>81.963655</td>\n",
       "      <td>0.151887</td>\n",
       "    </tr>\n",
       "    <tr>\n",
       "      <th>std</th>\n",
       "      <td>0.495027</td>\n",
       "      <td>8.572942</td>\n",
       "      <td>1.019791</td>\n",
       "      <td>0.500024</td>\n",
       "      <td>11.922462</td>\n",
       "      <td>0.169544</td>\n",
       "      <td>0.076569</td>\n",
       "      <td>0.462799</td>\n",
       "      <td>0.158280</td>\n",
       "      <td>44.591284</td>\n",
       "      <td>22.033300</td>\n",
       "      <td>11.910394</td>\n",
       "      <td>4.079840</td>\n",
       "      <td>12.025348</td>\n",
       "      <td>23.954335</td>\n",
       "      <td>0.358953</td>\n",
       "    </tr>\n",
       "    <tr>\n",
       "      <th>min</th>\n",
       "      <td>0.000000</td>\n",
       "      <td>32.000000</td>\n",
       "      <td>1.000000</td>\n",
       "      <td>0.000000</td>\n",
       "      <td>0.000000</td>\n",
       "      <td>0.000000</td>\n",
       "      <td>0.000000</td>\n",
       "      <td>0.000000</td>\n",
       "      <td>0.000000</td>\n",
       "      <td>107.000000</td>\n",
       "      <td>83.500000</td>\n",
       "      <td>48.000000</td>\n",
       "      <td>15.540000</td>\n",
       "      <td>44.000000</td>\n",
       "      <td>40.000000</td>\n",
       "      <td>0.000000</td>\n",
       "    </tr>\n",
       "    <tr>\n",
       "      <th>25%</th>\n",
       "      <td>0.000000</td>\n",
       "      <td>42.000000</td>\n",
       "      <td>1.000000</td>\n",
       "      <td>0.000000</td>\n",
       "      <td>0.000000</td>\n",
       "      <td>0.000000</td>\n",
       "      <td>0.000000</td>\n",
       "      <td>0.000000</td>\n",
       "      <td>0.000000</td>\n",
       "      <td>206.000000</td>\n",
       "      <td>117.000000</td>\n",
       "      <td>75.000000</td>\n",
       "      <td>23.070000</td>\n",
       "      <td>68.000000</td>\n",
       "      <td>71.000000</td>\n",
       "      <td>0.000000</td>\n",
       "    </tr>\n",
       "    <tr>\n",
       "      <th>50%</th>\n",
       "      <td>0.000000</td>\n",
       "      <td>49.000000</td>\n",
       "      <td>2.000000</td>\n",
       "      <td>0.000000</td>\n",
       "      <td>0.000000</td>\n",
       "      <td>0.000000</td>\n",
       "      <td>0.000000</td>\n",
       "      <td>0.000000</td>\n",
       "      <td>0.000000</td>\n",
       "      <td>234.000000</td>\n",
       "      <td>128.000000</td>\n",
       "      <td>82.000000</td>\n",
       "      <td>25.400000</td>\n",
       "      <td>75.000000</td>\n",
       "      <td>78.000000</td>\n",
       "      <td>0.000000</td>\n",
       "    </tr>\n",
       "    <tr>\n",
       "      <th>75%</th>\n",
       "      <td>1.000000</td>\n",
       "      <td>56.000000</td>\n",
       "      <td>3.000000</td>\n",
       "      <td>1.000000</td>\n",
       "      <td>20.000000</td>\n",
       "      <td>0.000000</td>\n",
       "      <td>0.000000</td>\n",
       "      <td>1.000000</td>\n",
       "      <td>0.000000</td>\n",
       "      <td>263.000000</td>\n",
       "      <td>144.000000</td>\n",
       "      <td>90.000000</td>\n",
       "      <td>28.040000</td>\n",
       "      <td>83.000000</td>\n",
       "      <td>87.000000</td>\n",
       "      <td>0.000000</td>\n",
       "    </tr>\n",
       "    <tr>\n",
       "      <th>max</th>\n",
       "      <td>1.000000</td>\n",
       "      <td>70.000000</td>\n",
       "      <td>4.000000</td>\n",
       "      <td>1.000000</td>\n",
       "      <td>70.000000</td>\n",
       "      <td>1.000000</td>\n",
       "      <td>1.000000</td>\n",
       "      <td>1.000000</td>\n",
       "      <td>1.000000</td>\n",
       "      <td>696.000000</td>\n",
       "      <td>295.000000</td>\n",
       "      <td>142.500000</td>\n",
       "      <td>56.800000</td>\n",
       "      <td>143.000000</td>\n",
       "      <td>394.000000</td>\n",
       "      <td>1.000000</td>\n",
       "    </tr>\n",
       "  </tbody>\n",
       "</table>\n",
       "</div>"
      ],
      "text/plain": [
       "              male          age    education  currentSmoker   cigsPerDay  \\\n",
       "count  4240.000000  4240.000000  4135.000000    4240.000000  4211.000000   \n",
       "mean      0.429245    49.580189     1.979444       0.494104     9.005937   \n",
       "std       0.495027     8.572942     1.019791       0.500024    11.922462   \n",
       "min       0.000000    32.000000     1.000000       0.000000     0.000000   \n",
       "25%       0.000000    42.000000     1.000000       0.000000     0.000000   \n",
       "50%       0.000000    49.000000     2.000000       0.000000     0.000000   \n",
       "75%       1.000000    56.000000     3.000000       1.000000    20.000000   \n",
       "max       1.000000    70.000000     4.000000       1.000000    70.000000   \n",
       "\n",
       "            BPMeds  prevalentStroke  prevalentHyp     diabetes      totChol  \\\n",
       "count  4187.000000      4240.000000   4240.000000  4240.000000  4190.000000   \n",
       "mean      0.029615         0.005896      0.310613     0.025708   236.699523   \n",
       "std       0.169544         0.076569      0.462799     0.158280    44.591284   \n",
       "min       0.000000         0.000000      0.000000     0.000000   107.000000   \n",
       "25%       0.000000         0.000000      0.000000     0.000000   206.000000   \n",
       "50%       0.000000         0.000000      0.000000     0.000000   234.000000   \n",
       "75%       0.000000         0.000000      1.000000     0.000000   263.000000   \n",
       "max       1.000000         1.000000      1.000000     1.000000   696.000000   \n",
       "\n",
       "             sysBP        diaBP          BMI    heartRate      glucose  \\\n",
       "count  4240.000000  4240.000000  4221.000000  4239.000000  3852.000000   \n",
       "mean    132.354599    82.897759    25.800801    75.878981    81.963655   \n",
       "std      22.033300    11.910394     4.079840    12.025348    23.954335   \n",
       "min      83.500000    48.000000    15.540000    44.000000    40.000000   \n",
       "25%     117.000000    75.000000    23.070000    68.000000    71.000000   \n",
       "50%     128.000000    82.000000    25.400000    75.000000    78.000000   \n",
       "75%     144.000000    90.000000    28.040000    83.000000    87.000000   \n",
       "max     295.000000   142.500000    56.800000   143.000000   394.000000   \n",
       "\n",
       "        TenYearCHD  \n",
       "count  4240.000000  \n",
       "mean      0.151887  \n",
       "std       0.358953  \n",
       "min       0.000000  \n",
       "25%       0.000000  \n",
       "50%       0.000000  \n",
       "75%       0.000000  \n",
       "max       1.000000  "
      ]
     },
     "execution_count": 4,
     "metadata": {},
     "output_type": "execute_result"
    }
   ],
   "source": [
    "data.describe()"
   ]
  },
  {
   "cell_type": "markdown",
   "metadata": {
    "id": "zGyHSsH5pYwC"
   },
   "source": [
    "\n",
    "### **2.2. Xử lí dữ liệu thiếu trong bộ dữ liệu gốc**"
   ]
  },
  {
   "cell_type": "markdown",
   "metadata": {
    "id": "bkF3qrgs1IiR"
   },
   "source": [
    "Nhóm quyết định dùng [SimpleImputer](https://scikit-learn.org/stable/modules/generated/sklearn.impute.SimpleImputer.html?highlight=simpleimputer#sklearn.impute.SimpleImputer) từ mã nguồn scikit-learn để xử lí những dữ liệu thiếu xót trong bộ dữ liệu gốc do NHLBI (Viện Tim, Phổi và Máu Quốc gia thuộc cơ quan chủ quản Bộ Y tế và Dịch vụ Nhân sinh Hoa Kỳ) công bố.\n",
    "\n",
    "Phương pháp mà nhóm chọn khi phát triển các mô hình là dùng trung bình cộng của những dữ liệu còn lại cùng cột."
   ]
  },
  {
   "cell_type": "code",
   "execution_count": 5,
   "metadata": {
    "colab": {
     "base_uri": "https://localhost:8080/"
    },
    "id": "1orxzLczpYwC",
    "outputId": "8386e012-15a8-4343-f600-04577b77fa03"
   },
   "outputs": [
    {
     "data": {
      "text/plain": [
       "male               0\n",
       "age                0\n",
       "education          0\n",
       "currentSmoker      0\n",
       "cigsPerDay         0\n",
       "BPMeds             0\n",
       "prevalentStroke    0\n",
       "prevalentHyp       0\n",
       "diabetes           0\n",
       "totChol            0\n",
       "sysBP              0\n",
       "diaBP              0\n",
       "BMI                0\n",
       "heartRate          0\n",
       "glucose            0\n",
       "TenYearCHD         0\n",
       "dtype: int64"
      ]
     },
     "execution_count": 5,
     "metadata": {},
     "output_type": "execute_result"
    }
   ],
   "source": [
    "from sklearn.impute import SimpleImputer\n",
    "data_fix = data.copy()\n",
    "\n",
    "mean_imputer = SimpleImputer(strategy='mean') \n",
    "data_fix.iloc[:,:] = mean_imputer.fit_transform(data_fix)\n",
    "data_fix.isnull().sum()        # Kiểm tra số lượng dữ liệu chưa được điền\n"
   ]
  },
  {
   "cell_type": "code",
   "execution_count": 6,
   "metadata": {
    "colab": {
     "base_uri": "https://localhost:8080/"
    },
    "id": "kX9qj2MmuVs6",
    "outputId": "055b5405-b2ed-4512-eeed-42160a2572ac"
   },
   "outputs": [
    {
     "name": "stdout",
     "output_type": "stream",
     "text": [
      "      male   age  education  currentSmoker  cigsPerDay    BPMeds  \\\n",
      "0      1.0  39.0        4.0            0.0         0.0  0.000000   \n",
      "1      0.0  46.0        2.0            0.0         0.0  0.000000   \n",
      "2      1.0  48.0        1.0            1.0        20.0  0.000000   \n",
      "3      0.0  61.0        3.0            1.0        30.0  0.000000   \n",
      "4      0.0  46.0        3.0            1.0        23.0  0.000000   \n",
      "...    ...   ...        ...            ...         ...       ...   \n",
      "4235   0.0  48.0        2.0            1.0        20.0  0.029615   \n",
      "4236   0.0  44.0        1.0            1.0        15.0  0.000000   \n",
      "4237   0.0  52.0        2.0            0.0         0.0  0.000000   \n",
      "4238   1.0  40.0        3.0            0.0         0.0  0.000000   \n",
      "4239   0.0  39.0        3.0            1.0        30.0  0.000000   \n",
      "\n",
      "      prevalentStroke  prevalentHyp  diabetes  totChol  sysBP  diaBP    BMI  \\\n",
      "0                 0.0           0.0       0.0    195.0  106.0   70.0  26.97   \n",
      "1                 0.0           0.0       0.0    250.0  121.0   81.0  28.73   \n",
      "2                 0.0           0.0       0.0    245.0  127.5   80.0  25.34   \n",
      "3                 0.0           1.0       0.0    225.0  150.0   95.0  28.58   \n",
      "4                 0.0           0.0       0.0    285.0  130.0   84.0  23.10   \n",
      "...               ...           ...       ...      ...    ...    ...    ...   \n",
      "4235              0.0           0.0       0.0    248.0  131.0   72.0  22.00   \n",
      "4236              0.0           0.0       0.0    210.0  126.5   87.0  19.16   \n",
      "4237              0.0           0.0       0.0    269.0  133.5   83.0  21.47   \n",
      "4238              0.0           1.0       0.0    185.0  141.0   98.0  25.60   \n",
      "4239              0.0           0.0       0.0    196.0  133.0   86.0  20.91   \n",
      "\n",
      "      heartRate     glucose  TenYearCHD  \n",
      "0          80.0   77.000000         0.0  \n",
      "1          95.0   76.000000         0.0  \n",
      "2          75.0   70.000000         0.0  \n",
      "3          65.0  103.000000         1.0  \n",
      "4          85.0   85.000000         0.0  \n",
      "...         ...         ...         ...  \n",
      "4235       84.0   86.000000         0.0  \n",
      "4236       86.0   81.963655         0.0  \n",
      "4237       80.0  107.000000         0.0  \n",
      "4238       67.0   72.000000         0.0  \n",
      "4239       85.0   80.000000         0.0  \n",
      "\n",
      "[4240 rows x 16 columns]\n"
     ]
    }
   ],
   "source": [
    "print(data_fix)"
   ]
  },
  {
   "cell_type": "markdown",
   "metadata": {
    "id": "szwl9i5P3Ef_"
   },
   "source": [
    "## **3. Chia dữ liệu thành tập huấn luyện và tập đánh giá**"
   ]
  },
  {
   "cell_type": "code",
   "execution_count": 7,
   "metadata": {
    "id": "qPO2lt-ByGR5"
   },
   "outputs": [],
   "source": [
    "y = data_fix[\"TenYearCHD\"]\n",
    "X = data_fix.drop(\"TenYearCHD\",axis=1)"
   ]
  },
  {
   "cell_type": "markdown",
   "metadata": {
    "id": "_czlg0xi4nUI"
   },
   "source": [
    "**Note:** Dữ liệu nên được chuẩn hóa trước khi chia thành tập huấn luyện và tập đánh giá. Mã nguồn scikit-learn có công cụ [preprocessing.normalize](https://scikit-learn.org/stable/modules/generated/sklearn.preprocessing.normalize.html?highlight=normalize#sklearn.preprocessing.normalize) để hỗ trợ việc này. Điều này được tiến sĩ Joaquin Sevilla và cộng sự khẳng định trong [nghiên cứu](https://www.researchgate.net/publication/3135573_Importance_of_input_data_normalization_for_the_application_of_neural_networks_to_complex_industrial_problems) của mình vào năm 1997.\n"
   ]
  },
  {
   "cell_type": "code",
   "execution_count": 8,
   "metadata": {
    "id": "1UQcoyI_pYwD"
   },
   "outputs": [],
   "source": [
    "X = sklearn.preprocessing.normalize(X, norm='l2', axis=1, copy=True, return_norm=False)\n",
    "X_train, X_test, y_train, y_test = train_test_split(X, y, test_size=0.3, random_state = 0)"
   ]
  },
  {
   "cell_type": "code",
   "execution_count": 9,
   "metadata": {
    "colab": {
     "base_uri": "https://localhost:8080/"
    },
    "id": "gXAq2FVDu1y5",
    "outputId": "f1884d6e-4139-4dc6-e92f-db8b38431bc0"
   },
   "outputs": [
    {
     "name": "stdout",
     "output_type": "stream",
     "text": [
      "[[0.         0.1743065  0.01340819 ... 0.07548812 0.2514036  0.27474611]\n",
      " [0.00311213 0.11514863 0.00622425 ... 0.08589465 0.19606388 0.17739113]\n",
      " [0.00361533 0.20607362 0.00361533 ... 0.13788856 0.24584221 0.3398407 ]\n",
      " ...\n",
      " [0.00447479 0.17451668 0.01342436 ... 0.10949803 0.31323507 0.36245772]\n",
      " [0.         0.13231932 0.00232139 ... 0.05634018 0.17410437 0.18803272]\n",
      " [0.         0.12951942 0.00647597 ... 0.0860009  0.24284892 0.23637295]]\n"
     ]
    }
   ],
   "source": [
    "print(X_train)"
   ]
  },
  {
   "cell_type": "code",
   "execution_count": 10,
   "metadata": {
    "colab": {
     "base_uri": "https://localhost:8080/"
    },
    "id": "NkLlbNcKpYwD",
    "outputId": "d033a973-542f-4ebe-cf2e-1e02655141cd"
   },
   "outputs": [
    {
     "name": "stdout",
     "output_type": "stream",
     "text": [
      "[0. 1.]\n",
      "2520 448\n"
     ]
    }
   ],
   "source": [
    "print(y_test.unique())\n",
    "counter = Counter(y_train)\n",
    "print(counter[0], counter[1])"
   ]
  },
  {
   "cell_type": "code",
   "execution_count": 11,
   "metadata": {
    "id": "qgAoW7y7qDR1"
   },
   "outputs": [],
   "source": [
    "class_weight = {0: 1.,\n",
    "                1: counter[0]/counter[1]}"
   ]
  },
  {
   "cell_type": "markdown",
   "metadata": {
    "id": "mYne_xQMGJoc"
   },
   "source": [
    "Có thể thấy trong tập dữ liệu huấn luyện dữ liệu âm tính nhiều hơn khoảng gần 6 lần so với dữ liệu dương tính. Nếu không xử lí ở điểm này, mô hình sẽ có xu hướng cố gắng cho ra rất nhiều kết quả âm tính. Để mô phỏng quá trình học của con người, nhóm quyết định \"ép buộc\" mô hình phải tập trung nhiều hơn vào những mẫu dương tính.\n",
    "\n",
    "`class_weight` dùng cho quá trình này."
   ]
  },
  {
   "cell_type": "markdown",
   "metadata": {
    "id": "3g7ACDvT_BU9"
   },
   "source": [
    "## **4. Phát triển mô hình dự đoán**"
   ]
  },
  {
   "cell_type": "markdown",
   "metadata": {
    "id": "CZDJafmuMd4v"
   },
   "source": [
    "**Note:** Ngoài độ chính xác tính theo phần trăm (accuracy trong bảo báo cáo) thì đối với bộ dữ liệu không cân bằng giữa số lượng mẫu dương tính và âm tính thì rất cần thiết phải có phương pháp tính điểm F1. Phương pháp này được tiến sĩ Marina Sokolova (University of Ottawa) và cộng sự giới thiệu lần đầu vào năm 2006 trong [bài nghiên cứu](https://www.researchgate.net/publication/225215404_Beyond_Accuracy_F-Score_and_ROC_A_Family_of_Discriminant_Measures_for_Performance_Evaluation) của mình."
   ]
  },
  {
   "cell_type": "markdown",
   "metadata": {
    "id": "pm6EMb8Zsgej"
   },
   "source": [
    "# **4.1. Linear Regression**"
   ]
  },
  {
   "cell_type": "code",
   "execution_count": 12,
   "metadata": {
    "colab": {
     "base_uri": "https://localhost:8080/"
    },
    "id": "cqFoMPmCpYwE",
    "outputId": "c84fe3c4-19c9-4ad0-934b-fdad83e2f758"
   },
   "outputs": [
    {
     "name": "stdout",
     "output_type": "stream",
     "text": [
      "confusion matrix:\n",
      "[[711 365]\n",
      " [ 77 119]]\n",
      "\n",
      "\n",
      "Accuracy of Logistic Regression: 65.252 \n",
      "\n",
      "F1 Score of Logistic Regression: 55.644 \n",
      "\n",
      "              precision    recall  f1-score   support\n",
      "\n",
      "         0.0       0.90      0.66      0.76      1076\n",
      "         1.0       0.25      0.61      0.35       196\n",
      "\n",
      "    accuracy                           0.65      1272\n",
      "   macro avg       0.57      0.63      0.56      1272\n",
      "weighted avg       0.80      0.65      0.70      1272\n",
      "\n"
     ]
    }
   ],
   "source": [
    "m1 = 'Logistic Regression'\n",
    "lr = LogisticRegression(class_weight = class_weight)\n",
    "model = lr.fit(X_train, y_train)\n",
    "lr_predict = lr.predict(X_test)\n",
    "lr_conf_matrix = confusion_matrix(y_test, lr_predict)\n",
    "lr_f1 = sklearn.metrics.f1_score(y_test, lr_predict, average='macro')\n",
    "lr_acc_score = accuracy_score(y_test, lr_predict)\n",
    "print(\"confusion matrix:\")\n",
    "print(lr_conf_matrix)\n",
    "print(\"\\n\")\n",
    "print(\"Accuracy of Logistic Regression: {:.5}\".format(lr_acc_score*100),'\\n')\n",
    "print(\"F1 Score of Logistic Regression: {:.5}\".format(lr_f1*100),'\\n')\n",
    "print(classification_report(y_test,lr_predict))\n"
   ]
  },
  {
   "cell_type": "markdown",
   "metadata": {
    "id": "BCxBKFHxHGjE"
   },
   "source": [
    "## ***4.2. Random Forest Classfier*** "
   ]
  },
  {
   "cell_type": "code",
   "execution_count": 13,
   "metadata": {
    "colab": {
     "base_uri": "https://localhost:8080/"
    },
    "id": "vF05kJvVpYwE",
    "outputId": "35b03d84-60e2-45da-f54d-711a970a94dd"
   },
   "outputs": [
    {
     "name": "stdout",
     "output_type": "stream",
     "text": [
      "confusion matrix:\n",
      "[[966 110]\n",
      " [143  53]]\n",
      "\n",
      "\n",
      "Accuracy of Random Forest Classifier: 80.11 \n",
      "\n",
      "F1 Score of Random Forest Classifier: 58.974 \n",
      "\n",
      "              precision    recall  f1-score   support\n",
      "\n",
      "         0.0       0.87      0.90      0.88      1076\n",
      "         1.0       0.33      0.27      0.30       196\n",
      "\n",
      "    accuracy                           0.80      1272\n",
      "   macro avg       0.60      0.58      0.59      1272\n",
      "weighted avg       0.79      0.80      0.79      1272\n",
      "\n"
     ]
    }
   ],
   "source": [
    "m2 = 'Random Forest Classfier'\n",
    "rf = RandomForestClassifier(random_state=None,max_depth=8, class_weight=class_weight)\n",
    "rf.fit(X_train,y_train)\n",
    "rf_predicted = rf.predict(X_test)\n",
    "rf_f1 = sklearn.metrics.f1_score(y_test, rf_predicted, average='macro')\n",
    "\n",
    "rf_conf_matrix = confusion_matrix(y_test, rf_predicted)\n",
    "rf_acc_score = accuracy_score(y_test, rf_predicted)\n",
    "print(\"confusion matrix:\")\n",
    "print(rf_conf_matrix)\n",
    "print(\"\\n\")\n",
    "print(\"Accuracy of Random Forest Classifier: {:.5}\".format(rf_acc_score*100),'\\n')\n",
    "print(\"F1 Score of Random Forest Classifier: {:.5}\".format(rf_f1*100),'\\n')\n",
    "print(classification_report(y_test,rf_predicted))"
   ]
  },
  {
   "cell_type": "markdown",
   "metadata": {
    "id": "X-SWpWGoHXgr"
   },
   "source": [
    "## ***4.3. Random Forest Classifier without class weight***"
   ]
  },
  {
   "cell_type": "code",
   "execution_count": 14,
   "metadata": {
    "colab": {
     "base_uri": "https://localhost:8080/"
    },
    "id": "QkRu9-EYHoVE",
    "outputId": "f2cec61a-2fe8-45b5-a450-35effadbdfaf"
   },
   "outputs": [
    {
     "name": "stdout",
     "output_type": "stream",
     "text": [
      "confussion matrix:\n",
      "[[966 110]\n",
      " [143  53]]\n",
      "\n",
      "\n",
      "Accuracy of Random Forest Classifier: 80.11 \n",
      "\n",
      "F1 Score of Random Forest Classifier: 47.707 \n",
      "\n",
      "              precision    recall  f1-score   support\n",
      "\n",
      "         0.0       0.85      0.99      0.92      1076\n",
      "         1.0       0.40      0.02      0.04       196\n",
      "\n",
      "    accuracy                           0.84      1272\n",
      "   macro avg       0.62      0.51      0.48      1272\n",
      "weighted avg       0.78      0.84      0.78      1272\n",
      "\n"
     ]
    }
   ],
   "source": [
    "m3 = 'Random Forest Classfier'\n",
    "rf_ = RandomForestClassifier(random_state=None,max_depth=8)\n",
    "rf_.fit(X_train,y_train)\n",
    "rf_predicted_ = rf_.predict(X_test)\n",
    "rf_f1_ = sklearn.metrics.f1_score(y_test, rf_predicted_, average='macro')\n",
    "\n",
    "rf_conf_matrix_ = confusion_matrix(y_test, rf_predicted)\n",
    "rf_acc_score_ = accuracy_score(y_test, rf_predicted)\n",
    "print(\"confussion matrix:\")\n",
    "print(rf_conf_matrix_)\n",
    "print(\"\\n\")\n",
    "print(\"Accuracy of Random Forest Classifier: {:.5}\".format(rf_acc_score_*100),'\\n')\n",
    "print(\"F1 Score of Random Forest Classifier: {:.5}\".format(rf_f1_*100),'\\n')\n",
    "print(classification_report(y_test,rf_predicted_))"
   ]
  },
  {
   "cell_type": "markdown",
   "metadata": {
    "id": "LbszAJEKIT2l"
   },
   "source": [
    "Có thể thấy nếu không có `class_weight` mô hình Random Forest (mô hình đã làm rất tốt trước đó) gặp rất nhiều khó khăn để dự đoán được những mẫu dương tính trong tập đánh giá, dẫn đến ảnh hưởng rất lớn đến điểm F1."
   ]
  },
  {
   "cell_type": "code",
   "execution_count": 22,
   "metadata": {},
   "outputs": [],
   "source": [
    "import pickle\n",
    "\n",
    "#Serialize mô hình\n",
    "with open('trained_model.pkl', 'wb') as f:\n",
    "    pickle.dump(rf, f)\n",
    "\n",
    "#De-serialize mô hình\n",
    "with open('trained_model.pkl', 'rb') as f:\n",
    "    clf_loaded = pickle.load(f)\n",
    "    \n",
    "    "
   ]
  },
  {
   "cell_type": "code",
   "execution_count": 23,
   "metadata": {},
   "outputs": [
    {
     "name": "stdout",
     "output_type": "stream",
     "text": [
      "[[0.75653796 0.24346204]]\n"
     ]
    }
   ],
   "source": [
    "#Check the pickle file by inputing the variables\n",
    "model = pickle.load(open('trained_model.pkl','rb'))\n",
    "print(model.predict_proba([[0, 61, 3.0, 1, 30.0, 0.0, 0, 1, 0, 225.0, 150.0, 95.0, 28.58, 65.0, 103.0]]))"
   ]
  },
  {
   "cell_type": "code",
   "execution_count": null,
   "metadata": {},
   "outputs": [],
   "source": []
  },
  {
   "cell_type": "code",
   "execution_count": null,
   "metadata": {},
   "outputs": [],
   "source": []
  }
 ],
 "metadata": {
  "colab": {
   "collapsed_sections": [],
   "name": "Copy of chdpred.ipynb",
   "provenance": [],
   "toc_visible": true
  },
  "kernelspec": {
   "display_name": "Python 3",
   "language": "python",
   "name": "python3"
  },
  "language_info": {
   "codemirror_mode": {
    "name": "ipython",
    "version": 3
   },
   "file_extension": ".py",
   "mimetype": "text/x-python",
   "name": "python",
   "nbconvert_exporter": "python",
   "pygments_lexer": "ipython3",
   "version": "3.8.8"
  }
 },
 "nbformat": 4,
 "nbformat_minor": 1
}
